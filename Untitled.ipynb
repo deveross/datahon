{
 "cells": [
  {
   "cell_type": "code",
   "execution_count": 115,
   "id": "6f877a84",
   "metadata": {},
   "outputs": [],
   "source": [
    "from numpy import nan\n",
    "import pandas as pd\n",
    "from pandas._config.config import reset_option\n",
    "from pandas.core.frame import DataFrame\n",
    "\n",
    "#pnr = pd.read_csv(\"PNR.csv\")\n",
    "ticket = pd.read_csv(\"TICKET.csv\")\n",
    "#airport  = pd.read_csv(\"AIRPORTS.csv\")\n",
    "\n",
    "#pnr_df = DataFrame(pnr)\n",
    "ticket_df = DataFrame(ticket)\n",
    "#airtprt_df = DataFrame(airport)\n",
    "\n",
    "#join_table = pnr_df.join(ticket.set_index(\"PNR_NO\"), on=\"PNR_NO\")"
   ]
  },
  {
   "cell_type": "code",
   "execution_count": 121,
   "id": "ecd1285a",
   "metadata": {},
   "outputs": [
    {
     "name": "stdout",
     "output_type": "stream",
     "text": [
      "CUST_AGE\n",
      "45.0    11654\n",
      "37.0    11665\n",
      "38.0    11737\n",
      "36.0    11934\n",
      "39.0    12427\n",
      "43.0    12520\n",
      "44.0    12743\n",
      "42.0    12898\n",
      "40.0    12980\n",
      "41.0    13511\n",
      "dtype: int64\n"
     ]
    }
   ],
   "source": [
    "#Bu kısımda uçuş sebebi \"BUSİNESS\" olanların yaşlarını inceledik\n",
    "\n",
    "result = ticket_df[ticket_df[\"FLIGHT_REASON\"]==\"BUSINESS\"]\n",
    "\n",
    "result = result.groupby(\"CUST_AGE\").size().sort_values()\n",
    "\n",
    "print(result.tail(10))\n",
    "\n",
    "#Yaşların büyük bir kısmının 36 - 45 yaş arası olduğu bilgisine ulaştık"
   ]
  },
  {
   "cell_type": "code",
   "execution_count": 125,
   "id": "75e40912",
   "metadata": {},
   "outputs": [
    {
     "name": "stdout",
     "output_type": "stream",
     "text": [
      "JRNY_TYP\n",
      "O     92016\n",
      "R    366577\n",
      "dtype: int64\n"
     ]
    }
   ],
   "source": [
    "#Bu kısımda uçuş sebebi \"BUSİNESS\" olanların seyahatin tek yön mü, gidiş-dönüş mü olduğunu inceledik\n",
    "\n",
    "result = ticket_df[ticket_df[\"FLIGHT_REASON\"]==\"BUSINESS\"]\n",
    "\n",
    "result = result.groupby(\"JRNY_TYP\").size()\n",
    "\n",
    "print(result)\n",
    "\n",
    "# %79 oranında R(gidiş-dönüş) olduğu bilgisine ulaştık"
   ]
  },
  {
   "cell_type": "code",
   "execution_count": 117,
   "id": "5185e4d7",
   "metadata": {},
   "outputs": [
    {
     "name": "stdout",
     "output_type": "stream",
     "text": [
      "CUST_AGE\n",
      "42.0     4873\n",
      "51.0     4930\n",
      "41.0     4950\n",
      "52.0     4971\n",
      "46.0     4981\n",
      "48.0     5071\n",
      "47.0     5152\n",
      "49.0     5161\n",
      "50.0     5214\n",
      "121.0    7783\n",
      "dtype: int64\n"
     ]
    }
   ],
   "source": [
    "#Bu kısımda uçuş sebebi \"LEISURE\" olanların yaşlarını inceledik\n",
    "\n",
    "result = ticket_df[ticket_df[\"FLIGHT_REASON\"]==\"LEISURE\"]\n",
    "\n",
    "result = result.groupby(\"CUST_AGE\").size().sort_values()\n",
    "\n",
    "print(result.tail(10))\n",
    "\n",
    "#Yaşların büyük bir kısmının 42 - 52 yaş arası olduğu bilgisine ulaştık"
   ]
  },
  {
   "cell_type": "code",
   "execution_count": 126,
   "id": "11621070",
   "metadata": {},
   "outputs": [
    {
     "name": "stdout",
     "output_type": "stream",
     "text": [
      "JRNY_TYP\n",
      "O     92025\n",
      "R    484714\n",
      "dtype: int64\n"
     ]
    }
   ],
   "source": [
    "#Bu kısımda uçuş sebebi \"LEISURE\" olanların seyahatin tek yön mü, gidiş-dönüş mü olduğunu inceledik\n",
    "\n",
    "result = ticket_df[ticket_df[\"FLIGHT_REASON\"]==\"LEISURE\"]\n",
    "\n",
    "result = result.groupby(\"JRNY_TYP\").size()\n",
    "\n",
    "print(result)\n",
    "\n",
    "# %84 oranında R(gidiş-dönüş) olduğu bilgisine ulaştık"
   ]
  },
  {
   "cell_type": "code",
   "execution_count": 118,
   "id": "1ac33944",
   "metadata": {},
   "outputs": [
    {
     "name": "stdout",
     "output_type": "stream",
     "text": [
      "CUST_AGE\n",
      "50.0     4562\n",
      "40.0     4605\n",
      "121.0    4608\n",
      "46.0     4615\n",
      "41.0     4617\n",
      "44.0     4628\n",
      "51.0     4643\n",
      "49.0     4695\n",
      "47.0     4848\n",
      "48.0     4940\n",
      "dtype: int64\n"
     ]
    }
   ],
   "source": [
    "#Bu kısımda uçuş sebebi \"SECOND HOME\" olanların yaşlarını inceledik\n",
    "\n",
    "result = ticket_df[ticket_df[\"FLIGHT_REASON\"]==\"SECOND HOME\"]\n",
    "\n",
    "result = result.groupby(\"CUST_AGE\").size().sort_values()\n",
    "\n",
    "print(result.tail(10))\n",
    "\n",
    "#Yaşların büyük bir kısmının 40 - 50 yaş arası olduğu bilgisine ulaştık"
   ]
  },
  {
   "cell_type": "code",
   "execution_count": 127,
   "id": "9e2c0761",
   "metadata": {},
   "outputs": [
    {
     "name": "stdout",
     "output_type": "stream",
     "text": [
      "JRNY_TYP\n",
      "O       108\n",
      "R    258903\n",
      "dtype: int64\n"
     ]
    }
   ],
   "source": [
    "#Bu kısımda uçuş sebebi \"SECOND HOME\" olanların seyahatin tek yön mü, gidiş-dönüş mü olduğunu inceledik\n",
    "\n",
    "result = ticket_df[ticket_df[\"FLIGHT_REASON\"]==\"SECOND HOME\"]\n",
    "\n",
    "result = result.groupby(\"JRNY_TYP\").size()\n",
    "\n",
    "print(result)\n",
    "\n",
    "# %99 oranında R(gidiş-dönüş) olduğu bilgisine ulaştık"
   ]
  },
  {
   "cell_type": "code",
   "execution_count": 119,
   "id": "f92c9023",
   "metadata": {},
   "outputs": [
    {
     "name": "stdout",
     "output_type": "stream",
     "text": [
      "CUST_AGE\n",
      "24.0     62\n",
      "25.0     65\n",
      "23.0     71\n",
      "17.0     72\n",
      "26.0     81\n",
      "21.0     81\n",
      "20.0     98\n",
      "22.0    103\n",
      "18.0    105\n",
      "19.0    114\n",
      "dtype: int64\n"
     ]
    }
   ],
   "source": [
    "#Bu kısımda uçuş sebebi \"STUDENT\" olanların yaşlarını inceledik\n",
    "\n",
    "result = ticket_df[ticket_df[\"FLIGHT_REASON\"]==\"STUDENT\"]\n",
    "\n",
    "result = result.groupby(\"CUST_AGE\").size().sort_values()\n",
    "\n",
    "print(result.tail(10))\n",
    "\n",
    "#Yaşların büyük bir kısmının 17 - 26 yaş arası olduğu bilgisine ulaştık"
   ]
  },
  {
   "cell_type": "code",
   "execution_count": 129,
   "id": "aba28bb5",
   "metadata": {},
   "outputs": [
    {
     "name": "stdout",
     "output_type": "stream",
     "text": [
      "JRNY_TYP\n",
      "O    315\n",
      "R    913\n",
      "dtype: int64\n"
     ]
    }
   ],
   "source": [
    "#Bu kısımda uçuş sebebi \"STUDENT\" olanların seyahatin tek yön mü, gidiş-dönüş mü olduğunu inceledik\n",
    "\n",
    "result = ticket_df[ticket_df[\"FLIGHT_REASON\"]==\"STUDENT\"]\n",
    "\n",
    "result = result.groupby(\"JRNY_TYP\").size()\n",
    "\n",
    "print(result)\n",
    "\n",
    "# %74 oranında R(gidiş-dönüş) olduğu bilgisine ulaştık"
   ]
  },
  {
   "cell_type": "code",
   "execution_count": null,
   "id": "485b4ad5",
   "metadata": {},
   "outputs": [],
   "source": []
  },
  {
   "cell_type": "code",
   "execution_count": null,
   "id": "b54954d4",
   "metadata": {},
   "outputs": [],
   "source": []
  },
  {
   "cell_type": "code",
   "execution_count": null,
   "id": "e3e7de76",
   "metadata": {},
   "outputs": [],
   "source": []
  },
  {
   "cell_type": "code",
   "execution_count": null,
   "id": "54d35aef",
   "metadata": {},
   "outputs": [],
   "source": []
  },
  {
   "cell_type": "code",
   "execution_count": null,
   "id": "04a3dfd2",
   "metadata": {},
   "outputs": [],
   "source": []
  },
  {
   "cell_type": "code",
   "execution_count": null,
   "id": "572ee396",
   "metadata": {},
   "outputs": [],
   "source": []
  },
  {
   "cell_type": "code",
   "execution_count": null,
   "id": "5eb0f318",
   "metadata": {},
   "outputs": [],
   "source": []
  }
 ],
 "metadata": {
  "kernelspec": {
   "display_name": "Python 3",
   "language": "python",
   "name": "python3"
  },
  "language_info": {
   "codemirror_mode": {
    "name": "ipython",
    "version": 3
   },
   "file_extension": ".py",
   "mimetype": "text/x-python",
   "name": "python",
   "nbconvert_exporter": "python",
   "pygments_lexer": "ipython3",
   "version": "3.8.8"
  }
 },
 "nbformat": 4,
 "nbformat_minor": 5
}
